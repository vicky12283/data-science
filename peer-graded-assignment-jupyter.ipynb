{
 "cells": [
  {
   "cell_type": "markdown",
   "id": "14648d6a-1e9b-414b-b27f-03c999b875f5",
   "metadata": {},
   "source": [
    "<h1>My Jupyter Notebook on IBM Watson Studio</h1>"
   ]
  },
  {
   "cell_type": "markdown",
   "id": "aa88cb9b-dab0-4556-bf85-d6d93a2640ca",
   "metadata": {},
   "source": [
    "Name:__Vignesh__ <br>\n",
    "I would to work in the field of Data science and currently pursuing MCA."
   ]
  },
  {
   "cell_type": "markdown",
   "id": "d58d2022-951b-4cd2-8bda-4f022a1f2872",
   "metadata": {},
   "source": [
    "_I am interested in data science as i have never been more excited in dealing and transforming something raw to meanigful insights_"
   ]
  },
  {
   "cell_type": "markdown",
   "id": "599f0c25-88db-4357-b461-e995c6f5c0a9",
   "metadata": {},
   "source": [
    "<h3> addition program</h3>"
   ]
  },
  {
   "cell_type": "code",
   "execution_count": 1,
   "id": "467a131a-5244-4d94-823c-0e5cf5c19c4f",
   "metadata": {},
   "outputs": [
    {
     "name": "stdout",
     "output_type": "stream",
     "text": [
      "2\n"
     ]
    }
   ],
   "source": [
    "a=1\n",
    "b=1\n",
    "print(a+b)"
   ]
  },
  {
   "cell_type": "code",
   "execution_count": null,
   "id": "381d446e-2237-4db8-b105-8b1296fae98a",
   "metadata": {},
   "outputs": [],
   "source": []
  }
 ],
 "metadata": {
  "kernelspec": {
   "display_name": "Python",
   "language": "python",
   "name": "conda-env-python-py"
  },
  "language_info": {
   "codemirror_mode": {
    "name": "ipython",
    "version": 3
   },
   "file_extension": ".py",
   "mimetype": "text/x-python",
   "name": "python",
   "nbconvert_exporter": "python",
   "pygments_lexer": "ipython3",
   "version": "3.7.12"
  }
 },
 "nbformat": 4,
 "nbformat_minor": 5
}
